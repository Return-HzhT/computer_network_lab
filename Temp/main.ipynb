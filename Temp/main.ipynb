{
 "cells": [
  {
   "cell_type": "code",
   "execution_count": 13,
   "metadata": {},
   "outputs": [],
   "source": [
    "import numpy as np\n",
    "import matplotlib.pyplot as plt"
   ]
  },
  {
   "cell_type": "code",
   "execution_count": 14,
   "metadata": {},
   "outputs": [],
   "source": [
    "def get_rssi(data, devices):\n",
    "    datas = [\n",
    "        data[data[:, 0] == devices[0], 3], data[data[:, 0] == devices[1], 3],\n",
    "        data[data[:, 0] == devices[2], 3]\n",
    "    ]\n",
    "    rssi = [\n",
    "        datas[0].astype(np.float32).mean(), datas[1].astype(np.float32).mean(),\n",
    "        datas[2].astype(np.float32).mean()\n",
    "    ]\n",
    "    return rssi\n",
    "\n",
    "\n",
    "def read_dists(data, devices):\n",
    "    datas = [\n",
    "        data[data[:, 0] == devices[0], 4], data[data[:, 0] == devices[1], 4],\n",
    "        data[data[:, 0] == devices[2], 4]\n",
    "    ]\n",
    "    dists = [\n",
    "        datas[0].astype(np.float32).mean(), datas[1].astype(np.float32).mean(),\n",
    "        datas[2].astype(np.float32).mean()\n",
    "    ]\n",
    "    return dists\n",
    "\n",
    "\n",
    "def get_distance(loc_dev, loc):\n",
    "    f = lambda x, y: ((x[0] - y[0])**2 + (x[1] - y[1])**2)**.5\n",
    "    distance = [f(loc, loc_dev[0]), f(loc, loc_dev[1]), f(loc, loc_dev[2])]\n",
    "    return distance\n",
    "\n",
    "\n",
    "def linear_regress(rssi, dist):\n",
    "    from sklearn.linear_model import LinearRegression\n",
    "    model = LinearRegression()\n",
    "    model.fit(np.array(rssi).reshape(-1,1),np.log(dist))\n",
    "    a = model.coef_  #斜率/回归系数\n",
    "    b = model.intercept_  #截距\n",
    "    return a,b\n"
   ]
  },
  {
   "cell_type": "code",
   "execution_count": 15,
   "metadata": {},
   "outputs": [],
   "source": [
    "data1, data2, data3,data4,data5 = np.load(\n",
    "    \"../sql_server/db_data_npy/wifi_data_0.npy\"), np.load(\n",
    "        \"../sql_server/db_data_npy/wifi_data_1.npy\"), np.load(\n",
    "            \"../sql_server/db_data_npy/wifi_data_2.npy\"),np.load(\n",
    "            \"../sql_server/db_data_npy/wifi_data_3.npy\"),np.load(\n",
    "            \"../sql_server/db_data_npy/wifi_data_4.npy\")\n",
    "\n",
    "loc_dev = [(4.3, 1.4), (0.0, 11.0), (16.0, 11.0)]\n",
    "devices = ['00f40443', '00f3f161', '00f40444']\n",
    "loc1, loc2, loc3,loc4 =  (12, 5.5), (8, 8),(4,11),(12,11)\n",
    "gt=[(4, 6.5),loc1,loc2,loc3,loc4]\n",
    "rssis =  get_rssi(\n",
    "    data3, devices) +get_rssi(\n",
    "    data2, devices)  +get_rssi(\n",
    "    data4, devices)  +get_rssi(\n",
    "    data5, devices)  \n",
    "dists =  get_distance(\n",
    "    loc_dev, loc2)+get_distance(\n",
    "    loc_dev, loc1)+get_distance(\n",
    "    loc_dev, loc3)+get_distance(\n",
    "    loc_dev, loc4)\n",
    "A1, N1 = linear_regress(rssis[3::3], dists[3::3])\n",
    "A2, N2 = linear_regress(rssis[4::3], dists[4::3])\n",
    "A3, N3 = linear_regress(rssis[5::3], dists[5::3])"
   ]
  },
  {
   "cell_type": "code",
   "execution_count": 16,
   "metadata": {},
   "outputs": [],
   "source": [
    "def cal_position(dists, loc_dev):\n",
    "    import math\n",
    "    point = [0, 0]\n",
    "    points = []\n",
    "    points3 = []\n",
    "\n",
    "    assert (len(dists) == 3)\n",
    "    assert (len(loc_dev) == 3 and len(loc_dev[0]) == 2)\n",
    "    e = 0.2\n",
    "    found = False\n",
    "    tmpx, tmpy = 0, 0\n",
    "    tmpx1, tmpy1 = 0, 0\n",
    "    tmpx2, tmpy2 = 0, 0\n",
    "    for i in range(3):\n",
    "        assert (dists[i] >= 0)\n",
    "        if found:\n",
    "            break\n",
    "        for j in range(i + 1, 3):\n",
    "            p2p = math.sqrt((loc_dev[i][0] - loc_dev[j][0]) *\n",
    "                            (loc_dev[i][0] - loc_dev[j][0]) +\n",
    "                            (loc_dev[i][1] - loc_dev[j][1]) *\n",
    "                            (loc_dev[i][1] - loc_dev[j][1]))\n",
    "            if dists[i] + dists[j] >= p2p:\n",
    "                dr = p2p / 2 + (dists[i] * dists[i] -\n",
    "                                dists[j] * dists[j]) / (2 * p2p)\n",
    "                ddr = math.sqrt(abs(dists[i] * dists[i] - dr * dr))\n",
    "                tmpx = loc_dev[i][0] + (loc_dev[j][0] -\n",
    "                                        loc_dev[i][0]) * dr / p2p\n",
    "                tmpy = loc_dev[i][1] + (loc_dev[j][1] -\n",
    "                                        loc_dev[i][1]) * dr / p2p\n",
    "                cos = -(loc_dev[j][1] - loc_dev[i][1]) / p2p\n",
    "                sin = (loc_dev[j][0] - loc_dev[i][0]) / p2p\n",
    "\n",
    "                tmpx1 = tmpx + ddr * cos\n",
    "                tmpx2 = tmpx - ddr * cos\n",
    "                tmpy1 = tmpy + ddr * sin\n",
    "                tmpy2 = tmpy - ddr * sin\n",
    "                points.append([tmpx1, tmpy1])\n",
    "                points.append([tmpx2, tmpy2])\n",
    "            else:\n",
    "                tmpx = loc_dev[i][0] + (loc_dev[j][0] - loc_dev[i][0]\n",
    "                                        ) * dists[i] / (dists[i] + dists[j])\n",
    "                tmpy = loc_dev[i][1] + (loc_dev[j][1] - loc_dev[i][1]\n",
    "                                        ) * dists[i] / (dists[i] + dists[j])\n",
    "\n",
    "            if dists[i] + dists[j] >= p2p:\n",
    "                k = 3 - i - j\n",
    "                dev1 = math.sqrt((tmpx1 - loc_dev[k][0]) *\n",
    "                                 (tmpx1 - loc_dev[k][0]) +\n",
    "                                 (tmpy1 - loc_dev[k][1]) *\n",
    "                                 (tmpy1 - loc_dev[k][1]))\n",
    "                if dev1 <= dists[k] + e and dev1 >= dists[k] - e:\n",
    "                    point[0] = tmpx1 + (loc_dev[k][0] -\n",
    "                                        tmpx1) * (1 / 2 - dists[k] /\n",
    "                                                  (2 * dev1))\n",
    "                    point[1] = tmpy1 + (loc_dev[k][1] -\n",
    "                                        tmpx1) * (1 / 2 - dists[k] /\n",
    "                                                  (2 * dev1))\n",
    "                    found = True\n",
    "                    break\n",
    "                dev2 = math.sqrt((tmpx2 - loc_dev[k][0]) *\n",
    "                                 (tmpx2 - loc_dev[k][0]) +\n",
    "                                 (tmpy2 - loc_dev[k][1]) *\n",
    "                                 (tmpy2 - loc_dev[k][1]))\n",
    "                if dev2 <= dists[k] + e and dev2 >= dists[k] - e:\n",
    "                    point[0] = tmpx2 + (loc_dev[k][0] -\n",
    "                                        tmpx2) * (1 / 2 - dists[k] /\n",
    "                                                  (2 * dev2))\n",
    "                    point[1] = tmpy2 + (loc_dev[k][1] -\n",
    "                                        tmpx2) * (1 / 2 - dists[k] /\n",
    "                                                  (2 * dev2))\n",
    "                    found = True\n",
    "                    break\n",
    "\n",
    "            point[0] += tmpx\n",
    "            point[1] += tmpy\n",
    "            points3.append([tmpx, tmpy])\n",
    "\n",
    "    if not found:\n",
    "        point[0] /= 3\n",
    "        point[1] /= 3\n",
    "\n",
    "    return np.array(point).reshape(-1)\n",
    "\n",
    "\n",
    "def calculate_distance(rssis):\n",
    "    return np.array([np.exp(rssis[0]*A1+N1),np.exp(rssis[1]*A2+N2),np.exp(rssis[2]*A3+N3)])\n"
   ]
  },
  {
   "cell_type": "code",
   "execution_count": 17,
   "metadata": {},
   "outputs": [
    {
     "name": "stdout",
     "output_type": "stream",
     "text": [
      "[7.582093 9.761157] [10.50647088 13.91586133] (4, 6.5)\n",
      "[9.193223  5.7389026] [13.51611392 -1.63313989] (12, 5.5)\n",
      "[ 9.042325 10.695394] [9.47994513 7.60423688] (8, 8)\n",
      "[6.029102 9.064429] [6.2403514  8.66940987] (4, 11)\n",
      "[8.296712 9.429395] [12.04680622 11.42370444] (12, 11)\n"
     ]
    }
   ],
   "source": [
    "for i in range(5):\n",
    "    data = np.load(f\"../sql_server/db_data_npy/wifi_data_{i}.npy\")\n",
    "    dists1 = calculate_distance(get_rssi(data, devices))\n",
    "    dists2 = read_dists(data, devices)\n",
    "    print(cal_position(dists1, loc_dev),cal_position(dists2, loc_dev),gt[i])\n"
   ]
  },
  {
   "cell_type": "code",
   "execution_count": 18,
   "metadata": {},
   "outputs": [
    {
     "data": {
      "text/plain": [
       "(array([-0.04283968], dtype=float32),\n",
       " array([-0.08600842], dtype=float32),\n",
       " array([-0.04953755], dtype=float32),\n",
       " -0.5770638,\n",
       " -3.8223147,\n",
       " -1.262215)"
      ]
     },
     "execution_count": 18,
     "metadata": {},
     "output_type": "execute_result"
    }
   ],
   "source": [
    "A1,A2,A3,N1,N2,N3"
   ]
  }
 ],
 "metadata": {
  "kernelspec": {
   "display_name": "base",
   "language": "python",
   "name": "python3"
  },
  "language_info": {
   "codemirror_mode": {
    "name": "ipython",
    "version": 3
   },
   "file_extension": ".py",
   "mimetype": "text/x-python",
   "name": "python",
   "nbconvert_exporter": "python",
   "pygments_lexer": "ipython3",
   "version": "3.9.13"
  },
  "orig_nbformat": 4
 },
 "nbformat": 4,
 "nbformat_minor": 2
}
